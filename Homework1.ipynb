{
 "cells": [
  {
   "cell_type": "markdown",
   "id": "d8c309a6-7520-4b5a-80bd-7a273c5986db",
   "metadata": {},
   "source": [
    "# ใบงานที่ 1 : การส่งการบ้านผ่าน Git"
   ]
  },
  {
   "cell_type": "raw",
   "id": "8a467dd5-7236-463d-9dde-2ddfe49f1b37",
   "metadata": {},
   "source": [
    "นางสาวแพรวพรรณ สุขเกษม 6512732115"
   ]
  },
  {
   "cell_type": "code",
   "execution_count": 4,
   "id": "3387a684-9520-480e-abd5-d11599461955",
   "metadata": {},
   "outputs": [
    {
     "name": "stdout",
     "output_type": "stream",
     "text": [
      "Hello, World!\n"
     ]
    }
   ],
   "source": [
    "print(\"Hello, World!\")"
   ]
  },
  {
   "cell_type": "code",
   "execution_count": null,
   "id": "8b92a7d9-2864-4343-a3e0-ad6aaa9c82d8",
   "metadata": {},
   "outputs": [],
   "source": []
  }
 ],
 "metadata": {
  "kernelspec": {
   "display_name": "Python 3 (ipykernel)",
   "language": "python",
   "name": "python3"
  },
  "language_info": {
   "codemirror_mode": {
    "name": "ipython",
    "version": 3
   },
   "file_extension": ".py",
   "mimetype": "text/x-python",
   "name": "python",
   "nbconvert_exporter": "python",
   "pygments_lexer": "ipython3",
   "version": "3.9.13"
  }
 },
 "nbformat": 4,
 "nbformat_minor": 5
}
