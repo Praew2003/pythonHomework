{
 "cells": [
  {
   "cell_type": "markdown",
   "id": "d8c309a6-7520-4b5a-80bd-7a273c5986db",
   "metadata": {},
   "source": [
    "# ใบงานที่ 1 : การส่งการบ้านผ่าน Git"
   ]
  },
  {
   "cell_type": "markdown",
   "id": "eb2e0df4-df66-4c7c-8df6-6fcb7acabe03",
   "metadata": {},
   "source": [
    "นางสาวแพรวพรรณ สุขเกษม 6512732115"
   ]
  },
  {
   "cell_type": "code",
   "execution_count": 4,
   "id": "3387a684-9520-480e-abd5-d11599461955",
   "metadata": {},
   "outputs": [
    {
     "name": "stdout",
     "output_type": "stream",
     "text": [
      "Hello, World!\n"
     ]
    }
   ],
   "source": [
    "print(\"Hello, World!\")"
   ]
  },
  {
   "cell_type": "code",
   "execution_count": 1,
   "id": "8b92a7d9-2864-4343-a3e0-ad6aaa9c82d8",
   "metadata": {},
   "outputs": [
    {
     "name": "stdin",
     "output_type": "stream",
     "text": [
      "Enter your number :  6\n"
     ]
    },
    {
     "name": "stdout",
     "output_type": "stream",
     "text": [
      "4\n"
     ]
    }
   ],
   "source": [
    "number = input(\"Enter your number : \")\n",
    "\n",
    "result = int(number) - 2\n",
    "\n",
    "print(result)"
   ]
  },
  {
   "cell_type": "code",
   "execution_count": 5,
   "id": "adbdc594-487d-4038-b6f6-7a23835985e7",
   "metadata": {},
   "outputs": [
    {
     "name": "stdout",
     "output_type": "stream",
     "text": [
      "Sammy has 5 dog\n"
     ]
    }
   ],
   "source": [
    "number = 5\n",
    "\n",
    "msg = \"Sammy has \"+ str(number) +\" dog\"\n",
    "print(msg)"
   ]
  },
  {
   "cell_type": "code",
   "execution_count": 6,
   "id": "948be96c-e3c8-4e8f-90a2-2a58c53c9be1",
   "metadata": {},
   "outputs": [
    {
     "name": "stdout",
     "output_type": "stream",
     "text": [
      "Sammy has 5 dog and 10 cats\n"
     ]
    }
   ],
   "source": [
    "cat = 10\n",
    "dog = 5\n",
    "\n",
    "msg = \"Sammy has {} dog and {} cats\".format(dog, cat)\n",
    "print(msg)"
   ]
  },
  {
   "cell_type": "code",
   "execution_count": 7,
   "id": "137186e4-f0b3-42fa-875c-4d78365f4a48",
   "metadata": {},
   "outputs": [
    {
     "name": "stdout",
     "output_type": "stream",
     "text": [
      "Sammy love open source.\n"
     ]
    }
   ],
   "source": [
    "open_string = \"Sammy love {}.\"\n",
    "print(open_string.format(\"open source\"))"
   ]
  },
  {
   "cell_type": "code",
   "execution_count": 9,
   "id": "46f3c8c5-64f7-44de-b333-38623fc9d775",
   "metadata": {},
   "outputs": [
    {
     "name": "stdin",
     "output_type": "stream",
     "text": [
      "Enter name :  praewpan\n",
      "Enter lasstname :  sukkasem\n"
     ]
    },
    {
     "name": "stdout",
     "output_type": "stream",
     "text": [
      "Hello, my name is praewpan sukkasem\n"
     ]
    }
   ],
   "source": [
    "msg = \"Hello, my name is {} {}\"\n",
    "\n",
    "name = input(\"Enter name : \")\n",
    "lastname = input(\"Enter lasstname : \")\n",
    "\n",
    "\n",
    "print(msg.format(name, lastname))"
   ]
  },
  {
   "cell_type": "code",
   "execution_count": 11,
   "id": "dae0ca25-5fa3-4e75-aa63-520ed9666b1e",
   "metadata": {},
   "outputs": [
    {
     "name": "stdout",
     "output_type": "stream",
     "text": [
      "pi : 3.15\n"
     ]
    }
   ],
   "source": [
    "pi = 3.1456587770\n",
    "print(\"pi : {0:.2f}\".format(pi))"
   ]
  },
  {
   "cell_type": "code",
   "execution_count": 13,
   "id": "5476be74-fa7b-481d-b6d2-1a1776e9e44d",
   "metadata": {},
   "outputs": [
    {
     "name": "stdout",
     "output_type": "stream",
     "text": [
      "Sammy ate 75.000000 percent of a pizza!\n"
     ]
    }
   ],
   "source": [
    "print(\"Sammy ate {0:f} percent of a {1}!\".format(75, \"pizza\"))"
   ]
  },
  {
   "cell_type": "code",
   "execution_count": 20,
   "id": "914d631d-76d2-4c01-8941-c33cd5f19b57",
   "metadata": {},
   "outputs": [
    {
     "name": "stdout",
     "output_type": "stream",
     "text": [
      "Sammy ate   5.00   red         balloons!\n"
     ]
    }
   ],
   "source": [
    "print(\"Sammy ate {0:^8.2f} red {1:>16}!\".format(5, \"balloons\"))"
   ]
  },
  {
   "cell_type": "code",
   "execution_count": 21,
   "id": "ebe7e0d7-dae8-47b0-8539-0c998428c1a0",
   "metadata": {},
   "outputs": [],
   "source": [
    "# < ชิดซ้าย\n",
    "# > ชิดขวา\n",
    "# ^ กึ่งกลาง"
   ]
  },
  {
   "cell_type": "code",
   "execution_count": 25,
   "id": "fe2f6797-24e4-43d3-8310-04a581ac8f6a",
   "metadata": {},
   "outputs": [
    {
     "name": "stdout",
     "output_type": "stream",
     "text": [
      "_______Sammy________\n"
     ]
    }
   ],
   "source": [
    "print(\"{0:_^20s}\".format(\"Sammy\"))"
   ]
  },
  {
   "cell_type": "code",
   "execution_count": 19,
   "id": "4a0c32e1-c8a4-481e-9273-a10d2ca01a5c",
   "metadata": {},
   "outputs": [
    {
     "name": "stdout",
     "output_type": "stream",
     "text": [
      "|dog       |   cat    |       bat|\n"
     ]
    }
   ],
   "source": [
    "print(\"|{0:<10s}|{1:^10s}|{2:>10s}|\".format(\"dog\", \"cat\", \"bat\"))"
   ]
  },
  {
   "cell_type": "code",
   "execution_count": null,
   "id": "b918c754-4aa5-45a0-9fb8-88ff1e53ad3d",
   "metadata": {},
   "outputs": [],
   "source": []
  }
 ],
 "metadata": {
  "kernelspec": {
   "display_name": "Python 3 (ipykernel)",
   "language": "python",
   "name": "python3"
  },
  "language_info": {
   "codemirror_mode": {
    "name": "ipython",
    "version": 3
   },
   "file_extension": ".py",
   "mimetype": "text/x-python",
   "name": "python",
   "nbconvert_exporter": "python",
   "pygments_lexer": "ipython3",
   "version": "3.9.13"
  }
 },
 "nbformat": 4,
 "nbformat_minor": 5
}
